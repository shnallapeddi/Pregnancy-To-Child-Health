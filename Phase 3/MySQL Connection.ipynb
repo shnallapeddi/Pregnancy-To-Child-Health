{
 "cells": [
  {
   "cell_type": "code",
   "execution_count": 4,
   "id": "5f136a8f-4a44-4306-a6e5-8f4c8c8bb845",
   "metadata": {},
   "outputs": [],
   "source": [
    "import mysql.connector\n",
    "\n",
    "def create_connection():\n",
    "    connection = mysql.connector.connect(\n",
    "        host=\"localhost\",\n",
    "        user=\"root\",\n",
    "        password=\"Dharmaraju98\",\n",
    "        database=\"HealthFlow\" \n",
    "    )\n",
    "    return connection\n",
    "\n",
    "def run_query(query):\n",
    "    connection = create_connection()\n",
    "    cursor = connection.cursor(dictionary=True)\n",
    "    cursor.execute(query)\n",
    "    result = cursor.fetchall()\n",
    "    cursor.close()\n",
    "    connection.close()\n",
    "    return result"
   ]
  },
  {
   "cell_type": "code",
   "execution_count": 5,
   "id": "712ea3f2-9153-4355-8da8-007ed9d0b832",
   "metadata": {},
   "outputs": [
    {
     "name": "stdout",
     "output_type": "stream",
     "text": [
      "Connection successful!\n"
     ]
    }
   ],
   "source": [
    "def test_connection():\n",
    "    try:\n",
    "        connection = create_connection()\n",
    "        if connection.is_connected():\n",
    "            print(\"Connection successful!\")\n",
    "        else:\n",
    "            print(\"Connection failed.\")\n",
    "    except mysql.connector.Error as e:\n",
    "        print(f\"Error: {e}\")\n",
    "    finally:\n",
    "        if connection.is_connected():\n",
    "            connection.close()\n",
    "\n",
    "# Run the test function\n",
    "test_connection()"
   ]
  },
  {
   "cell_type": "code",
   "execution_count": 6,
   "id": "30ad0e06-36f3-4653-8dd3-a669bd4e0031",
   "metadata": {},
   "outputs": [
    {
     "data": {
      "text/plain": [
       "['Region_Name',\n",
       " 'Region_Code',\n",
       " 'Year_num',\n",
       " 'Birth_rate_crude_per_1000_people',\n",
       " 'Births_attended_by_skilled_health_staff_percent_of_total',\n",
       " 'Cause_of_death_by_communicable_diseases',\n",
       " 'Death_rate_crude_per_1000_people',\n",
       " 'Hospital_beds_per_1000_people',\n",
       " 'Immunization_BCG_percent_of_one_year_old_children',\n",
       " 'Immunization_HepB3_percent_of_one_year_old_children',\n",
       " 'Immunization_measles_second_dose',\n",
       " 'Immunization_Pol3_percent_of_one_year_old_children',\n",
       " 'Life_expectancy_at_birth_female_years',\n",
       " 'Life_expectancy_at_birth_male_years',\n",
       " 'Life_expectancy_at_birth_total_years',\n",
       " 'Lifetime_risk_of_maternal_death_percent',\n",
       " 'Lifetime_risk_of_maternal_death_1_in_rate_varies_by_country',\n",
       " 'Literacy_rate_Pregnant_Women',\n",
       " 'Literacy_rate_adult_total_percent_of_people_ages_15_and_above',\n",
       " 'Low_birthweight_babies_percent_of_births',\n",
       " 'Maternal_mortality_ratio',\n",
       " 'Maternal_mortality_ratio_1',\n",
       " 'Mortality_rate_infant_per_1000_live_births',\n",
       " 'Mortality_rate_infant_female_per_1000_live_births',\n",
       " 'Mortality_rate_infant_male_per_1000_live_births',\n",
       " 'Mortality_rate_neonatal_per_1000_live_births',\n",
       " 'Newborns_protected_against_tetanus',\n",
       " 'Number_of_infant_deaths',\n",
       " 'Number_of_infant_deaths_female',\n",
       " 'Number_of_infant_deaths_male',\n",
       " 'Number_of_maternal_deaths',\n",
       " 'Number_of_neonatal_deaths',\n",
       " 'Number_of_stillbirths',\n",
       " 'Nurses_and_midwives_per_1000_people',\n",
       " 'Physicians_per_1000_people',\n",
       " 'Pregnant_women_receiving_prenatal_care_percent',\n",
       " 'Prevalence_of_anemia_among_pregnant_women_percent',\n",
       " 'Prevalence_of_anemia_among_children',\n",
       " 'Prevalence_of_current_tobacco_use_pregnant_women',\n",
       " 'Prevalence_of_hypertension_pregnant_women',\n",
       " 'Stillbirth_rate_per_1000_total_births',\n",
       " 'Total_alcohol_consumption_per_capita',\n",
       " 'Vitamin_A_supplementation_coverage_rate',\n",
       " 'Region_Code_Numeric',\n",
       " 'Infant_Mortality_Rate_to_Birth_Rate_Ratio',\n",
       " 'Birth_Death_Ratio',\n",
       " 'Immunization_Efficacy',\n",
       " 'Life_Expectancy_Difference',\n",
       " 'Neonatal_Mortality_Rate_to_Birth_Rate_Ratio',\n",
       " 'Hypertension_to_Birth_Rate_Ratio',\n",
       " 'Female_to_Male_Infant_Mortality',\n",
       " 'Maternal_to_Neonatal_Mortality']"
      ]
     },
     "execution_count": 6,
     "metadata": {},
     "output_type": "execute_result"
    }
   ],
   "source": [
    "import mysql.connector\n",
    "\n",
    "# Database connection details\n",
    "connection = mysql.connector.connect(\n",
    "    host=\"localhost\",\n",
    "    user=\"root\",\n",
    "    password=\"Dharmaraju98\",\n",
    "    database=\"HealthFlow\"\n",
    ")\n",
    "\n",
    "# Query to fetch column names\n",
    "query = \"SHOW COLUMNS FROM LifeBegins;\"\n",
    "cursor = connection.cursor()\n",
    "cursor.execute(query)\n",
    "\n",
    "# Fetch and display column names\n",
    "columns = cursor.fetchall()\n",
    "column_names = [column[0] for column in columns]\n",
    "\n",
    "cursor.close()\n",
    "connection.close()\n",
    "\n",
    "column_names\n"
   ]
  },
  {
   "cell_type": "code",
   "execution_count": null,
   "id": "7c849687-c644-4ad6-8c53-90d80a039598",
   "metadata": {},
   "outputs": [],
   "source": []
  }
 ],
 "metadata": {
  "kernelspec": {
   "display_name": "Python 3 (ipykernel)",
   "language": "python",
   "name": "python3"
  },
  "language_info": {
   "codemirror_mode": {
    "name": "ipython",
    "version": 3
   },
   "file_extension": ".py",
   "mimetype": "text/x-python",
   "name": "python",
   "nbconvert_exporter": "python",
   "pygments_lexer": "ipython3",
   "version": "3.13.0"
  }
 },
 "nbformat": 4,
 "nbformat_minor": 5
}
